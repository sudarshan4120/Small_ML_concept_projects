{
 "cells": [
  {
   "cell_type": "code",
   "execution_count": 1,
   "id": "71cb8b2a",
   "metadata": {},
   "outputs": [],
   "source": [
    "from sklearn import tree\n",
    "from sklearn.datasets import load_iris\n",
    "import numpy as np\n",
    "import pandas as pd\n"
   ]
  },
  {
   "cell_type": "code",
   "execution_count": null,
   "id": "f7e519f9",
   "metadata": {},
   "outputs": [],
   "source": [
    "iris = load_iris()"
   ]
  },
  {
   "cell_type": "code",
   "execution_count": null,
   "id": "e2dd1952",
   "metadata": {},
   "outputs": [],
   "source": [
    "X,y = iris.data, iris.target"
   ]
  },
  {
   "cell_type": "code",
   "execution_count": null,
   "id": "be9f3e9c",
   "metadata": {},
   "outputs": [],
   "source": [
    "X\n",
    "# the variables are --- [petal length ,width, sepal length, width]"
   ]
  },
  {
   "cell_type": "code",
   "execution_count": null,
   "id": "91a3059c",
   "metadata": {},
   "outputs": [],
   "source": [
    "y"
   ]
  },
  {
   "cell_type": "code",
   "execution_count": null,
   "id": "2a59b543",
   "metadata": {},
   "outputs": [],
   "source": []
  },
  {
   "cell_type": "code",
   "execution_count": null,
   "id": "3d0a2a91",
   "metadata": {},
   "outputs": [],
   "source": [
    "creating\n",
    "clf = tree.DecisionTreeClassifier(criterion='entropy',max_depth=5)\n"
   ]
  },
  {
   "cell_type": "code",
   "execution_count": null,
   "id": "1b4d624a",
   "metadata": {},
   "outputs": [],
   "source": [
    "from matplotlib import pyplot as plt\n",
    "fig = plt.figure(figsize=(25,20))\n",
    "tree.plot_tree(clf)"
   ]
  },
  {
   "cell_type": "code",
   "execution_count": null,
   "id": "ee38c529",
   "metadata": {},
   "outputs": [],
   "source": [
    "from sklearn.model_selection import train_test_split\n",
    "from sklearn import metrics\n",
    "X_train, X_test, y_train, y_test = train_test_split(X, y, test_size=0.3, random_state=123)"
   ]
  },
  {
   "cell_type": "code",
   "execution_count": null,
   "id": "61b4b1a6",
   "metadata": {},
   "outputs": [],
   "source": [
    "clf.fit(X_train, y_train)"
   ]
  },
  {
   "cell_type": "code",
   "execution_count": null,
   "id": "e0059e3e",
   "metadata": {},
   "outputs": [],
   "source": [
    "y_pred = clf.predict(X_test)"
   ]
  },
  {
   "cell_type": "code",
   "execution_count": null,
   "id": "eb4c0b4b",
   "metadata": {},
   "outputs": [],
   "source": [
    "y_pred1 = clf.predict(X_train)"
   ]
  },
  {
   "cell_type": "code",
   "execution_count": null,
   "id": "0c2d00c5",
   "metadata": {},
   "outputs": [],
   "source": [
    "print(\"Accuracy:\", metrics.accuracy_score(y_train, y_pred1))"
   ]
  },
  {
   "cell_type": "code",
   "execution_count": null,
   "id": "6319a3c5",
   "metadata": {},
   "outputs": [],
   "source": [
    "print(\"Accuracy:\", metrics.accuracy_score(y_test,y_pred))"
   ]
  },
  {
   "cell_type": "code",
   "execution_count": null,
   "id": "402dd09e",
   "metadata": {},
   "outputs": [],
   "source": [
    "from sklearn.metrics import confusion_matrix\n",
    "a = confusion_matrix(y_test,y_pred)\n",
    "\n",
    "b = confusion_matrix(y_train, y_pred1)\n",
    "print(a)\n",
    "print(b)"
   ]
  },
  {
   "cell_type": "code",
   "execution_count": null,
   "id": "74bf299e",
   "metadata": {},
   "outputs": [],
   "source": [
    "from sklearn import metrics\n",
    "\n",
    "cm_display = metrics.ConfusionMatrixDisplay(confusion_matrix = a)\n",
    "cm_disp_train = metrics.ConfusionMatrixDisplay(confusion_matrix=b)\n",
    "cm_display.plot()\n",
    "cm_disp_train.plot()\n",
    "plt.show()\n"
   ]
  },
  {
   "cell_type": "code",
   "execution_count": null,
   "id": "0014143a",
   "metadata": {},
   "outputs": [],
   "source": []
  },
  {
   "cell_type": "code",
   "execution_count": null,
   "id": "ab1d4893",
   "metadata": {},
   "outputs": [],
   "source": [
    "from sklearn.ensemble import RandomForestClassifier\n",
    "df = pd.DataFrame({'Sepal Length (cm)' : iris.data[:,0],'Sepal Width (cm)' : iris.data[:,1], \n",
    "                 'Petal Length (cm)' : iris.data[:,2], 'Petal Width (cm)':iris.data[:,3],\n",
    "                 \"species\" : iris.target[:]})\n",
    "df.describe()"
   ]
  },
  {
   "cell_type": "code",
   "execution_count": null,
   "id": "e8c45092",
   "metadata": {},
   "outputs": [],
   "source": [
    "from sklearn.model_selection import train_test_split\n",
    "from sklearn import metrics\n",
    "X = df.iloc[:,:4]\n",
    "y = df.iloc[:,-1]\n",
    "X_train, X_test, y_train, y_test = train_test_split(X, y, test_size=0.3, random_state=123)"
   ]
  },
  {
   "cell_type": "code",
   "execution_count": null,
   "id": "b25cac4c",
   "metadata": {},
   "outputs": [],
   "source": [
    "print(X_test.shape)\n",
    "print(X_train.shape)\n",
    "print(y_test.shape)\n",
    "print(y_train.shape)"
   ]
  },
  {
   "cell_type": "code",
   "execution_count": null,
   "id": "cedc6f66",
   "metadata": {},
   "outputs": [],
   "source": [
    "RandForest = RandomForestClassifier(n_estimators=100,criterion='gini',max_depth = 2)\n",
    "RandForest.fit(X_train, y_train)"
   ]
  },
  {
   "cell_type": "code",
   "execution_count": null,
   "id": "472a8686",
   "metadata": {},
   "outputs": [],
   "source": [
    "y_pred = RandForest.predict(X_test)\n",
    "y_pred1 = RandForest.predict(X_train)"
   ]
  },
  {
   "cell_type": "code",
   "execution_count": null,
   "id": "51888dc5",
   "metadata": {},
   "outputs": [],
   "source": [
    "print(\"Accuracy:\", metrics.accuracy_score(y_train, y_pred1))"
   ]
  },
  {
   "cell_type": "code",
   "execution_count": null,
   "id": "f45e15f6",
   "metadata": {},
   "outputs": [],
   "source": [
    "print(\"Accuracy:\", metrics.accuracy_score(y_test, y_pred))"
   ]
  },
  {
   "cell_type": "code",
   "execution_count": null,
   "id": "6d6339bb",
   "metadata": {},
   "outputs": [],
   "source": [
    "a = int(input('Sepal Length (0 to 7)'))\n",
    "b = int(input('Sepal Width (2 to 4)'))\n",
    "c= int(input('Petal Length (1 to 6)'))\n",
    "d= int(input('Petal Width ( 0 to 2.5)'))\n",
    "                \n",
    "z = RandForest.predict([[a,b,c,d]])\n",
    "z"
   ]
  },
  {
   "cell_type": "code",
   "execution_count": null,
   "id": "9906ff46",
   "metadata": {},
   "outputs": [],
   "source": [
    "species = {0:'Setosa',1:'versicolor',2:'virginica'}\n",
    "print(\"prediction is\",species[int(z)])"
   ]
  },
  {
   "cell_type": "code",
   "execution_count": null,
   "id": "616dd670",
   "metadata": {},
   "outputs": [],
   "source": []
  }
 ],
 "metadata": {
  "kernelspec": {
   "display_name": "Python 3",
   "language": "python",
   "name": "python3"
  },
  "language_info": {
   "codemirror_mode": {
    "name": "ipython",
    "version": 3
   },
   "file_extension": ".py",
   "mimetype": "text/x-python",
   "name": "python",
   "nbconvert_exporter": "python",
   "pygments_lexer": "ipython3",
   "version": "3.11.1"
  }
 },
 "nbformat": 4,
 "nbformat_minor": 5
}
